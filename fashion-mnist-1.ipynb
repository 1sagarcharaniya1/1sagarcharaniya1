{
 "cells": [
  {
   "cell_type": "code",
   "execution_count": 1,
   "id": "88ec8927",
   "metadata": {
    "_cell_guid": "b1076dfc-b9ad-4769-8c92-a6c4dae69d19",
    "_uuid": "8f2839f25d086af736a60e9eeb907d3b93b6e0e5",
    "execution": {
     "iopub.execute_input": "2023-02-17T11:59:00.566862Z",
     "iopub.status.busy": "2023-02-17T11:59:00.566409Z",
     "iopub.status.idle": "2023-02-17T11:59:09.160057Z",
     "shell.execute_reply": "2023-02-17T11:59:09.159028Z"
    },
    "papermill": {
     "duration": 8.60586,
     "end_time": "2023-02-17T11:59:09.162908",
     "exception": false,
     "start_time": "2023-02-17T11:59:00.557048",
     "status": "completed"
    },
    "tags": []
   },
   "outputs": [],
   "source": [
    "import tensorflow as tf"
   ]
  },
  {
   "cell_type": "code",
   "execution_count": 2,
   "id": "c191fd63",
   "metadata": {
    "execution": {
     "iopub.execute_input": "2023-02-17T11:59:09.173651Z",
     "iopub.status.busy": "2023-02-17T11:59:09.172912Z",
     "iopub.status.idle": "2023-02-17T11:59:09.178724Z",
     "shell.execute_reply": "2023-02-17T11:59:09.177628Z"
    },
    "papermill": {
     "duration": 0.013326,
     "end_time": "2023-02-17T11:59:09.181049",
     "exception": false,
     "start_time": "2023-02-17T11:59:09.167723",
     "status": "completed"
    },
    "tags": []
   },
   "outputs": [],
   "source": [
    "import matplotlib.pyplot as plt"
   ]
  },
  {
   "cell_type": "code",
   "execution_count": 3,
   "id": "06bfdbfa",
   "metadata": {
    "execution": {
     "iopub.execute_input": "2023-02-17T11:59:09.191166Z",
     "iopub.status.busy": "2023-02-17T11:59:09.190487Z",
     "iopub.status.idle": "2023-02-17T11:59:09.195031Z",
     "shell.execute_reply": "2023-02-17T11:59:09.193851Z"
    },
    "papermill": {
     "duration": 0.012751,
     "end_time": "2023-02-17T11:59:09.197720",
     "exception": false,
     "start_time": "2023-02-17T11:59:09.184969",
     "status": "completed"
    },
    "tags": []
   },
   "outputs": [],
   "source": [
    "data = tf.keras.datasets.fashion_mnist"
   ]
  },
  {
   "cell_type": "code",
   "execution_count": 4,
   "id": "f801db75",
   "metadata": {
    "execution": {
     "iopub.execute_input": "2023-02-17T11:59:09.207168Z",
     "iopub.status.busy": "2023-02-17T11:59:09.206785Z",
     "iopub.status.idle": "2023-02-17T11:59:11.485496Z",
     "shell.execute_reply": "2023-02-17T11:59:11.484343Z"
    },
    "papermill": {
     "duration": 2.286758,
     "end_time": "2023-02-17T11:59:11.488402",
     "exception": false,
     "start_time": "2023-02-17T11:59:09.201644",
     "status": "completed"
    },
    "tags": []
   },
   "outputs": [
    {
     "name": "stdout",
     "output_type": "stream",
     "text": [
      "Downloading data from https://storage.googleapis.com/tensorflow/tf-keras-datasets/train-labels-idx1-ubyte.gz\n",
      "29515/29515 [==============================] - 0s 0us/step\n",
      "Downloading data from https://storage.googleapis.com/tensorflow/tf-keras-datasets/train-images-idx3-ubyte.gz\n",
      "26421880/26421880 [==============================] - 1s 0us/step\n",
      "Downloading data from https://storage.googleapis.com/tensorflow/tf-keras-datasets/t10k-labels-idx1-ubyte.gz\n",
      "5148/5148 [==============================] - 0s 0us/step\n",
      "Downloading data from https://storage.googleapis.com/tensorflow/tf-keras-datasets/t10k-images-idx3-ubyte.gz\n",
      "4422102/4422102 [==============================] - 0s 0us/step\n"
     ]
    }
   ],
   "source": [
    "(training_images, training_labels), (test_images, test_labels) = data.load_data()"
   ]
  },
  {
   "cell_type": "code",
   "execution_count": 5,
   "id": "27329405",
   "metadata": {
    "execution": {
     "iopub.execute_input": "2023-02-17T11:59:11.502436Z",
     "iopub.status.busy": "2023-02-17T11:59:11.501175Z",
     "iopub.status.idle": "2023-02-17T11:59:11.702503Z",
     "shell.execute_reply": "2023-02-17T11:59:11.700872Z"
    },
    "papermill": {
     "duration": 0.210925,
     "end_time": "2023-02-17T11:59:11.705185",
     "exception": false,
     "start_time": "2023-02-17T11:59:11.494260",
     "status": "completed"
    },
    "tags": []
   },
   "outputs": [],
   "source": [
    "training_images = training_images / 255.0\n",
    "test_images = test_images / 255.0"
   ]
  },
  {
   "cell_type": "code",
   "execution_count": 6,
   "id": "55d3fc9d",
   "metadata": {
    "execution": {
     "iopub.execute_input": "2023-02-17T11:59:11.718675Z",
     "iopub.status.busy": "2023-02-17T11:59:11.718242Z",
     "iopub.status.idle": "2023-02-17T11:59:11.854205Z",
     "shell.execute_reply": "2023-02-17T11:59:11.852950Z"
    },
    "papermill": {
     "duration": 0.146041,
     "end_time": "2023-02-17T11:59:11.856905",
     "exception": false,
     "start_time": "2023-02-17T11:59:11.710864",
     "status": "completed"
    },
    "tags": []
   },
   "outputs": [
    {
     "name": "stderr",
     "output_type": "stream",
     "text": [
      "2023-02-17 11:59:11.753636: W tensorflow/stream_executor/platform/default/dso_loader.cc:64] Could not load dynamic library 'libcuda.so.1'; dlerror: libcuda.so.1: cannot open shared object file: No such file or directory; LD_LIBRARY_PATH: /usr/local/cuda/lib64:/usr/local/cuda/lib:/usr/local/lib/x86_64-linux-gnu:/usr/local/nvidia/lib:/usr/local/nvidia/lib64::/opt/conda/lib\n",
      "2023-02-17 11:59:11.753697: W tensorflow/stream_executor/cuda/cuda_driver.cc:269] failed call to cuInit: UNKNOWN ERROR (303)\n"
     ]
    }
   ],
   "source": [
    "model = tf.keras.models.Sequential([tf.keras.layers.Flatten(input_shape=(28, 28)),\n",
    "                                    tf.keras.layers.Dense(128, activation=tf.nn.relu),\n",
    "                                    tf.keras.layers.Dense(10, activation=tf.nn.softmax)])"
   ]
  },
  {
   "cell_type": "code",
   "execution_count": 7,
   "id": "451c7251",
   "metadata": {
    "execution": {
     "iopub.execute_input": "2023-02-17T11:59:11.870835Z",
     "iopub.status.busy": "2023-02-17T11:59:11.869815Z",
     "iopub.status.idle": "2023-02-17T11:59:11.888168Z",
     "shell.execute_reply": "2023-02-17T11:59:11.886742Z"
    },
    "papermill": {
     "duration": 0.028451,
     "end_time": "2023-02-17T11:59:11.891138",
     "exception": false,
     "start_time": "2023-02-17T11:59:11.862687",
     "status": "completed"
    },
    "tags": []
   },
   "outputs": [],
   "source": [
    "model.compile(optimizer='adam',loss='sparse_categorical_crossentropy',metrics=['accuracy'])"
   ]
  },
  {
   "cell_type": "code",
   "execution_count": 8,
   "id": "b0e66888",
   "metadata": {
    "execution": {
     "iopub.execute_input": "2023-02-17T11:59:11.904652Z",
     "iopub.status.busy": "2023-02-17T11:59:11.904167Z",
     "iopub.status.idle": "2023-02-17T12:00:50.416997Z",
     "shell.execute_reply": "2023-02-17T12:00:50.415766Z"
    },
    "papermill": {
     "duration": 98.522639,
     "end_time": "2023-02-17T12:00:50.419626",
     "exception": false,
     "start_time": "2023-02-17T11:59:11.896987",
     "status": "completed"
    },
    "tags": []
   },
   "outputs": [
    {
     "name": "stdout",
     "output_type": "stream",
     "text": [
      "Epoch 1/20\n",
      "1875/1875 [==============================] - 5s 3ms/step - loss: 0.4930 - accuracy: 0.8260\n",
      "Epoch 2/20\n",
      "1875/1875 [==============================] - 5s 3ms/step - loss: 0.3734 - accuracy: 0.8634\n",
      "Epoch 3/20\n",
      "1875/1875 [==============================] - 5s 3ms/step - loss: 0.3338 - accuracy: 0.8791\n",
      "Epoch 4/20\n",
      "1875/1875 [==============================] - 5s 3ms/step - loss: 0.3110 - accuracy: 0.8861\n",
      "Epoch 5/20\n",
      "1875/1875 [==============================] - 5s 2ms/step - loss: 0.2934 - accuracy: 0.8921\n",
      "Epoch 6/20\n",
      "1875/1875 [==============================] - 5s 2ms/step - loss: 0.2795 - accuracy: 0.8968\n",
      "Epoch 7/20\n",
      "1875/1875 [==============================] - 5s 2ms/step - loss: 0.2659 - accuracy: 0.9007\n",
      "Epoch 8/20\n",
      "1875/1875 [==============================] - 5s 3ms/step - loss: 0.2542 - accuracy: 0.9060\n",
      "Epoch 9/20\n",
      "1875/1875 [==============================] - 5s 3ms/step - loss: 0.2448 - accuracy: 0.9089\n",
      "Epoch 10/20\n",
      "1875/1875 [==============================] - 5s 3ms/step - loss: 0.2355 - accuracy: 0.9122\n",
      "Epoch 11/20\n",
      "1875/1875 [==============================] - 5s 3ms/step - loss: 0.2282 - accuracy: 0.9159\n",
      "Epoch 12/20\n",
      "1875/1875 [==============================] - 5s 3ms/step - loss: 0.2196 - accuracy: 0.9178\n",
      "Epoch 13/20\n",
      "1875/1875 [==============================] - 5s 3ms/step - loss: 0.2145 - accuracy: 0.9200\n",
      "Epoch 14/20\n",
      "1875/1875 [==============================] - 5s 3ms/step - loss: 0.2067 - accuracy: 0.9226\n",
      "Epoch 15/20\n",
      "1875/1875 [==============================] - 5s 3ms/step - loss: 0.2011 - accuracy: 0.9243\n",
      "Epoch 16/20\n",
      "1875/1875 [==============================] - 5s 3ms/step - loss: 0.1967 - accuracy: 0.9259\n",
      "Epoch 17/20\n",
      "1875/1875 [==============================] - 5s 3ms/step - loss: 0.1923 - accuracy: 0.9267\n",
      "Epoch 18/20\n",
      "1875/1875 [==============================] - 5s 3ms/step - loss: 0.1844 - accuracy: 0.9295\n",
      "Epoch 19/20\n",
      "1875/1875 [==============================] - 5s 3ms/step - loss: 0.1790 - accuracy: 0.9318\n",
      "Epoch 20/20\n",
      "1875/1875 [==============================] - 5s 2ms/step - loss: 0.1754 - accuracy: 0.9344\n"
     ]
    },
    {
     "data": {
      "text/plain": [
       "<keras.callbacks.History at 0x7f59f7180550>"
      ]
     },
     "execution_count": 8,
     "metadata": {},
     "output_type": "execute_result"
    }
   ],
   "source": [
    "model.fit(training_images, training_labels, epochs=20)"
   ]
  },
  {
   "cell_type": "code",
   "execution_count": 9,
   "id": "adc4f024",
   "metadata": {
    "execution": {
     "iopub.execute_input": "2023-02-17T12:00:50.679010Z",
     "iopub.status.busy": "2023-02-17T12:00:50.677614Z",
     "iopub.status.idle": "2023-02-17T12:00:51.556401Z",
     "shell.execute_reply": "2023-02-17T12:00:51.555164Z"
    },
    "papermill": {
     "duration": 1.012234,
     "end_time": "2023-02-17T12:00:51.558922",
     "exception": false,
     "start_time": "2023-02-17T12:00:50.546688",
     "status": "completed"
    },
    "tags": []
   },
   "outputs": [
    {
     "name": "stdout",
     "output_type": "stream",
     "text": [
      "313/313 [==============================] - 1s 2ms/step - loss: 0.3484 - accuracy: 0.8918\n"
     ]
    },
    {
     "data": {
      "text/plain": [
       "[0.3484118580818176, 0.8917999863624573]"
      ]
     },
     "execution_count": 9,
     "metadata": {},
     "output_type": "execute_result"
    }
   ],
   "source": [
    "model.evaluate(test_images, test_labels)"
   ]
  },
  {
   "cell_type": "code",
   "execution_count": 10,
   "id": "2b40dbf7",
   "metadata": {
    "execution": {
     "iopub.execute_input": "2023-02-17T12:00:51.823269Z",
     "iopub.status.busy": "2023-02-17T12:00:51.822050Z",
     "iopub.status.idle": "2023-02-17T12:00:52.605717Z",
     "shell.execute_reply": "2023-02-17T12:00:52.604062Z"
    },
    "papermill": {
     "duration": 0.917191,
     "end_time": "2023-02-17T12:00:52.609527",
     "exception": false,
     "start_time": "2023-02-17T12:00:51.692336",
     "status": "completed"
    },
    "tags": []
   },
   "outputs": [
    {
     "name": "stdout",
     "output_type": "stream",
     "text": [
      "313/313 [==============================] - 1s 2ms/step\n",
      "[8.4247284e-02 2.3058796e-13 3.9845574e-04 4.6552421e-04 8.0850901e-04\n",
      " 5.6737753e-13 9.1407800e-01 9.6000201e-11 2.0047164e-06 2.6292446e-07]\n",
      "6\n"
     ]
    }
   ],
   "source": [
    "classifications = model.predict(test_images)\n",
    "print(classifications[4])\n",
    "print(test_labels[4])"
   ]
  },
  {
   "cell_type": "code",
   "execution_count": null,
   "id": "6be06f45",
   "metadata": {
    "papermill": {
     "duration": 0.131034,
     "end_time": "2023-02-17T12:00:52.874165",
     "exception": false,
     "start_time": "2023-02-17T12:00:52.743131",
     "status": "completed"
    },
    "tags": []
   },
   "outputs": [],
   "source": []
  },
  {
   "cell_type": "code",
   "execution_count": null,
   "id": "de396133",
   "metadata": {
    "papermill": {
     "duration": 0.129938,
     "end_time": "2023-02-17T12:00:53.132658",
     "exception": false,
     "start_time": "2023-02-17T12:00:53.002720",
     "status": "completed"
    },
    "tags": []
   },
   "outputs": [],
   "source": []
  },
  {
   "cell_type": "code",
   "execution_count": null,
   "id": "a3f3daee",
   "metadata": {
    "papermill": {
     "duration": 0.128661,
     "end_time": "2023-02-17T12:00:53.389486",
     "exception": false,
     "start_time": "2023-02-17T12:00:53.260825",
     "status": "completed"
    },
    "tags": []
   },
   "outputs": [],
   "source": []
  }
 ],
 "metadata": {
  "kernelspec": {
   "display_name": "Python 3",
   "language": "python",
   "name": "python3"
  },
  "language_info": {
   "codemirror_mode": {
    "name": "ipython",
    "version": 3
   },
   "file_extension": ".py",
   "mimetype": "text/x-python",
   "name": "python",
   "nbconvert_exporter": "python",
   "pygments_lexer": "ipython3",
   "version": "3.7.12"
  },
  "papermill": {
   "default_parameters": {},
   "duration": 125.242558,
   "end_time": "2023-02-17T12:00:57.046651",
   "environment_variables": {},
   "exception": null,
   "input_path": "__notebook__.ipynb",
   "output_path": "__notebook__.ipynb",
   "parameters": {},
   "start_time": "2023-02-17T11:58:51.804093",
   "version": "2.3.4"
  }
 },
 "nbformat": 4,
 "nbformat_minor": 5
}
